{
 "cells": [
  {
   "cell_type": "code",
   "execution_count": 10,
   "metadata": {},
   "outputs": [],
   "source": [
    "import torch\n",
    "import torch.nn as nn\n",
    "\n",
    "# 假設我們有一個詞彙表，大小為 10（即有 10 個單詞）\n",
    "vocab_size = 10\n",
    "\n",
    "# 我們希望每個單詞的向量表示的維度為 4\n",
    "embedding_dim = 4\n",
    "\n",
    "# 創建一個 nn.Embedding 對象\n",
    "embed = nn.Embedding(vocab_size, embedding_dim)"
   ]
  },
  {
   "cell_type": "code",
   "execution_count": 36,
   "metadata": {},
   "outputs": [
    {
     "name": "stdout",
     "output_type": "stream",
     "text": [
      "tensor([[ 1.6093, -0.2288, -0.2895,  0.2434],\n",
      "        [-1.2708,  0.5872,  1.1394, -0.9810],\n",
      "        [ 0.3215, -1.2948,  1.0009,  0.7495],\n",
      "        [ 2.7828,  1.7015, -0.1618, -1.0813]], grad_fn=<EmbeddingBackward0>)\n",
      "tensor([[ 1.6093, -0.2288, -0.2895,  0.2434],\n",
      "        [-2.1313, -0.0627,  1.3415,  0.1885],\n",
      "        [ 0.3215, -1.2948,  1.0009,  0.7495]], grad_fn=<EmbeddingBackward0>)\n"
     ]
    }
   ],
   "source": [
    "# 現在我們可以用這個 embed 對象來獲得任何單詞的向量表示\n",
    "# 假設我們想要獲得詞彙表中第 1 個單詞的向量表示\n",
    "# word_id = torch.arange()\n",
    "word_id = torch.tensor([1,2,3,4])\n",
    "word_vec = embed(word_id)\n",
    "print(word_vec)\n",
    "word_id = torch.tensor([1,9,3])\n",
    "word_vec = embed(word_id)\n",
    "print(word_vec)"
   ]
  }
 ],
 "metadata": {
  "kernelspec": {
   "display_name": "base",
   "language": "python",
   "name": "python3"
  },
  "language_info": {
   "codemirror_mode": {
    "name": "ipython",
    "version": 3
   },
   "file_extension": ".py",
   "mimetype": "text/x-python",
   "name": "python",
   "nbconvert_exporter": "python",
   "pygments_lexer": "ipython3",
   "version": "3.10.6"
  }
 },
 "nbformat": 4,
 "nbformat_minor": 2
}
